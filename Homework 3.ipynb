{
 "cells": [
  {
   "attachments": {},
   "cell_type": "markdown",
   "metadata": {},
   "source": [
    "# Computer Organization\n",
    "# Homework 3 "
   ]
  },
  {
   "attachments": {},
   "cell_type": "markdown",
   "metadata": {},
   "source": [
    "## Sebastián Navarro\n",
    "## 16/05/2023"
   ]
  },
  {
   "attachments": {},
   "cell_type": "markdown",
   "metadata": {},
   "source": [
    "### 1. Use assembly to solve the following problems:"
   ]
  },
  {
   "attachments": {},
   "cell_type": "markdown",
   "metadata": {},
   "source": [
    "- Obtain the 50th Fibonacci number"
   ]
  },
  {
   "cell_type": "code",
   "execution_count": null,
   "metadata": {
    "vscode": {
     "languageId": "plaintext"
    }
   },
   "outputs": [],
   "source": [
    ".data\n",
    "prompt: .asciiz \"El Fibonacci de 50 es: \"    # Mensaje a imprimir\n",
    "\n",
    ".text\n",
    ".globl main\n",
    "\n",
    "main:\n",
    "    li $t0, 50      # Cargar el número 50 en $t0 (número de iteraciones)\n",
    "    li $t1, 0       # Inicializar $t1 como 0 (fibonacci(i-2))\n",
    "    li $t2, 1       # Inicializar $t2 como 1 (fibonacci(i-1))\n",
    "    li $t3, 0       # Inicializar $t3 como 0 (fibonacci(i))\n",
    "\n",
    "    beqz $t0, print  # Saltar a la etiqueta \"print\" si $t0 es igual a cero (número de iteraciones)\n",
    "\n",
    "loop:\n",
    "    addu $t3, $t1, $t2  # Sumar $t1 y $t2 y almacenar el resultado en $t3 (fibonacci(i) = fibonacci(i-2) + fibonacci(i-1))\n",
    "    move $t1, $t2       # Mover el valor de $t2 a $t1 (fibonacci(i-1) = fibonacci(i-2))\n",
    "    move $t2, $t3       # Mover el valor de $t3 a $t2 (fibonacci(i) = fibonacci(i-1))\n",
    "    sub $t0, $t0, 1     # Restar 1 a $t0 (decrementar el número de iteraciones)\n",
    "    bgtz $t0, loop      # Saltar a la etiqueta \"loop\" si $t0 es mayor que cero (aún hay más iteraciones)\n",
    "\n",
    "print:\n",
    "    li $v0, 4         # Cargar el valor 4 en $v0 (imprimir cadena)\n",
    "    la $a0, prompt    # Cargar la dirección de memoria de \"prompt\" en $a0\n",
    "    syscall           # Llamar al sistema para imprimir el mensaje\n",
    "\n",
    "    li $v0, 1         # Cargar el valor 1 en $v0 (imprimir entero)\n",
    "    move $a0, $t1     # Mover el valor de $t1 a $a0 (fibonacci(i-1))\n",
    "    syscall           # Llamar al sistema para imprimir el número\n",
    "\n",
    "    li $v0, 10        # Cargar el valor 10 en $v0 (finalizar programa)\n",
    "    syscall           # Llamar al sistema para finalizar el programa\n"
   ]
  }
 ],
 "metadata": {
  "kernelspec": {
   "display_name": "Intel",
   "name": "intel"
  },
  "language_info": {
   "name": "python"
  },
  "orig_nbformat": 4
 },
 "nbformat": 4,
 "nbformat_minor": 2
}
