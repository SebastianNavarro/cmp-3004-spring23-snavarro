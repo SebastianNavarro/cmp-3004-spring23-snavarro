{
 "cells": [
  {
   "attachments": {},
   "cell_type": "markdown",
   "metadata": {},
   "source": [
    "# Computer Organization\n",
    "# Homework 3 "
   ]
  },
  {
   "attachments": {},
   "cell_type": "markdown",
   "metadata": {},
   "source": [
    "## Sebastián Navarro\n",
    "## 16/05/2023"
   ]
  },
  {
   "attachments": {},
   "cell_type": "markdown",
   "metadata": {},
   "source": [
    "### 1. Use assembly to solve the following problems:"
   ]
  },
  {
   "attachments": {},
   "cell_type": "markdown",
   "metadata": {},
   "source": [
    "- Obtain the 50th Fibonacci number"
   ]
  },
  {
   "cell_type": "code",
   "execution_count": null,
   "metadata": {
    "vscode": {
     "languageId": "mips"
    }
   },
   "outputs": [],
   "source": [
    ".data\n",
    "prompt: .asciiz \"El Fibonacci de 50 es: \"  \n",
    "\n",
    ".text\n",
    ".globl main\n",
    "\n",
    "main:\n",
    "    li $t0, 50          # Cargar el valor 50 de Fibonacci\n",
    "    li $t1, 0           # F(n-2): Inicializar el valor para el elemento anterior a F(0)\n",
    "    li $t2, 1           # F(n-1): Inicializar el valor para el elemento anterior a F(1)\n",
    "    li $t3, 0           # F(n): Inicializar el valor para el elemento actual\n",
    "\n",
    "    beqz $t0, print     # Saltar a la etiqueta \"print\" si el contador es igual a cero (se ha calculado la secuencia completa)\n",
    "\n",
    "loop:\n",
    "    addu $t3, $t1, $t2  # F(n) = F(n-1) + F(n-2): Calcular el siguiente elemento de la secuencia\n",
    "    move $t1, $t2       # Actualizar el valor de F(n-2) con el valor de F(n-1)\n",
    "    move $t2, $t3       # Actualizar el valor de F(n-1) con el valor de F(n)\n",
    "    sub $t0, $t0, 1     # Decrementar el contador en 1 para avanzar al siguiente elemento\n",
    "    bgtz $t0, loop      # Saltar a la etiqueta \"loop\" si $t0 es mayor que 0 (hay más elementos por calcular)\n",
    "\n",
    "print:\n",
    "    li $v0, 4           # Cargar el valor 4 en $v0 (imprimir cadena)\n",
    "    la $a0, prompt      # Cargar la dirección de memoria de \"prompt\" en $a0\n",
    "    syscall             # Llamar al sistema para imprimir el mensaje\n",
    "\n",
    "    li $v0, 1           # Cargar el valor 1 en $v0 (imprimir entero)\n",
    "    move $a0, $t1       # Mover el valor de F(n-1) a $a0 (imprimir el resultado de Fibonacci)\n",
    "    syscall             # Llamar al sistema para imprimir el resultado\n",
    "\n",
    "    li $v0, 10          # Cargar el valor 10 en $v0 (código de salida del programa)\n",
    "    syscall             # Llamar al sistema para finalizar el programa\n"
   ]
  },
  {
   "attachments": {},
   "cell_type": "markdown",
   "metadata": {},
   "source": [
    "- Find out if a given year is leap"
   ]
  },
  {
   "cell_type": "code",
   "execution_count": null,
   "metadata": {
    "vscode": {
     "languageId": "mips"
    }
   },
   "outputs": [],
   "source": [
    ".data\n",
    "prompt:     .asciiz \"Ingrese el año a determinar si es bisiesto: \"  \n",
    "prompt2:    .asciiz \"Es bisiesto\"  \n",
    "prompt3:    .asciiz \"No es bisiesto\"  \n",
    "\n",
    ".text\n",
    ".globl main\n",
    "\n",
    "main:\n",
    "    li $v0, 4           # Cargar el valor 4 en $v0 (imprimir cadena)\n",
    "    la $a0, prompt      # Cargar la dirección de memoria de \"prompt\" en $a0\n",
    "    syscall             # Llamar al sistema para imprimir el mensaje\n",
    "\n",
    "    li $v0, 5           # Cargar el valor 5 en $v0 (leer entero)\n",
    "    syscall             # Llamar al sistema para leer el año ingresado por el usuario\n",
    "    move $t0, $v0       # Mover el valor ingresado a $t0 (almacenar el año ingresado)\n",
    "\n",
    "    li $t1, 4           # Cargar el valor 4 en $t1 (valor utilizado para determinar si el año es divisible por 4)\n",
    "    li $t2, 100         # Cargar el valor 100 en $t2 (valor utilizado para determinar si el año es divisible por 100)\n",
    "    li $t3, 400         # Cargar el valor 400 en $t3 (valor utilizado para determinar si el año es divisible por 400)\n",
    "\n",
    "    div $t0, $t1        # Dividir $t0 entre $t1 (calcular el resto de la división)\n",
    "    mfhi $t4            # Mover el resto de la división a $t4\n",
    "\n",
    "    bnez $t4, not_leap_year  # Saltar a la etiqueta \"not_leap_year\" si el resto de la división no es cero (el año no es divisible por 4)\n",
    "\n",
    "    div $t0, $t2        # Dividir $t0 entre $t2 (calcular el resto de la división)\n",
    "    mfhi $t4            # Mover el resto de la división a $t4\n",
    "\n",
    "    bnez $t4, is_leap_year  # Saltar a la etiqueta \"is_leap_year\" si el resto de la división no es cero (el año es divisible por 100)\n",
    "\n",
    "    div $t0, $t3        # Dividir $t0 entre $t3 (calcular el resto de la división)\n",
    "    mfhi $t4            # Mover el resto de la división a $t4\n",
    "\n",
    "    bnez $t4, not_leap_year  # Saltar a la etiqueta \"not_leap_year\" si el resto de la división no es cero (el año no es divisible por 400)\n",
    "\n",
    "is_leap_year:\n",
    "    li $v0, 4           # Cargar el valor 4 en $v0 (imprimir cadena)\n",
    "    la $a0, prompt2     # Cargar la dirección de memoria de \"prompt2\" en $a0\n",
    "    syscall             # Llamar al sistema para imprimir el mensaje\n",
    "\n",
    "    li $v0, 10          # Cargar el valor 10 en $v0 (código de salida del programa)\n",
    "    syscall             # Llamar al sistema para finalizar el\n",
    "\n",
    "not_leap_year:\n",
    "    li $v0, 4           # Cargar el valor 4 en $v0 (imprimir cadena)\n",
    "    la $a0, prompt3     # Cargar la dirección de memoria de \"prompt3\" en $a0\n",
    "    syscall             # Llamar al sistema para imprimir el mensaje \n",
    "\n",
    "    li $v0, 10          # Cargar el valor 10 en $v0 (código de salida del programa)\n",
    "    syscall             # Llamar al sistema para finalizar el programa   "
   ]
  },
  {
   "attachments": {},
   "cell_type": "markdown",
   "metadata": {},
   "source": [
    "- Given an array of integers, calculate the average"
   ]
  },
  {
   "cell_type": "code",
   "execution_count": null,
   "metadata": {
    "vscode": {
     "languageId": "mips"
    }
   },
   "outputs": [],
   "source": [
    ".data\n",
    "array: .word 20, 20, 20, 10  # Arreglo de números\n",
    "\n",
    ".text\n",
    ".globl main\n",
    "main:\n",
    "    la $t0, array            # Carga la dirección base del arreglo en el registro $t0\n",
    "    \n",
    "    # Inicializa variables\n",
    "    li $t1, 0                # Tamaño del arreglo (contador de elementos)\n",
    "    li $t3, 0                # Suma de los elementos\n",
    "\n",
    "loop:\n",
    "    lw $t2, ($t0)            # Carga el valor del elemento actual en el registro $t2\n",
    "        \n",
    "    beqz $t2, end_loop       # Si el valor es cero, salta al final del ciclo\n",
    "\n",
    "    addi $t0, $t0, 4         # Incrementa la dirección base para acceder al siguiente elemento\n",
    "    add $t3, $t3, $t2        # Suma el valor del elemento al acumulador\n",
    "    addi $t1, $t1, 1         # Incrementa el contador de elementos\n",
    "\n",
    "    j loop                   # Salta de vuelta al inicio del ciclo\n",
    "\n",
    "end_loop:\n",
    "    div $t4, $t3, $t1\n",
    "    mflo $t4                 # Almacena el resultado de la división en $t4\n",
    "\n",
    "    li $v0, 1                # Código para imprimir enteros\n",
    "    move $a0, $t4            # Carga el promedio en el argumento para imprimir\n",
    "    syscall\n",
    "\n",
    "    li $v0, 10               # Código de salida del programa\n",
    "    syscall"
   ]
  },
  {
   "attachments": {},
   "cell_type": "markdown",
   "metadata": {},
   "source": [
    "- Write a program to transform from Celsius to Fahrenheit and vice versa"
   ]
  },
  {
   "cell_type": "code",
   "execution_count": null,
   "metadata": {
    "vscode": {
     "languageId": "mips"
    }
   },
   "outputs": [],
   "source": [
    ".data\n",
    "prompt: .asciiz \"Ingrese la opción de conversión (1. Grados Celsius a Fahrenheit, 2. Grados Fahrenheit a Celsius): \"  \n",
    "prompt2: .asciiz \"Ingrese la temperatura en grados Celsius: \"  \n",
    "prompt3: .asciiz \"Ingrese la temperatura en grados Fahrenheit: \"  \n",
    "result1: .asciiz \"La temperatura en grados Fahrenheit es: \"  \n",
    "result2: .asciiz \"La temperatura en grados Celsius es: \"  \n",
    "saltoLinea: .asciiz \"\\n\"  \n",
    "\n",
    ".text\n",
    ".globl main\n",
    "\n",
    "main:        \n",
    "    li $v0, 4\n",
    "    la $a0, prompt\n",
    "    syscall\n",
    "\n",
    "    li $v0, 5\n",
    "    syscall\n",
    "    move $t0, $v0  # Guardar la opción seleccionada en $t0\n",
    "\n",
    "    beq $t0, 1, celsius_to_fahrenheit  # Saltar a la etiqueta \"celsius_to_fahrenheit\" si la opción es 1\n",
    "    beq $t0, 2, fahrenheit_to_celsius  # Saltar a la etiqueta \"fahrenheit_to_celsius\" si la opción es 2\n",
    "\n",
    "exit:\n",
    "    li $v0, 10\n",
    "    syscall\n",
    "\n",
    "celsius_to_fahrenheit:\n",
    "    li $v0, 4\n",
    "    la $a0, prompt2\n",
    "    syscall\n",
    "\n",
    "    li $v0, 5\n",
    "    syscall\n",
    "    move $t1, $v0\n",
    "\n",
    "    # Convertir de Celsius a Fahrenheit (F = C * 9/5 + 32)\n",
    "    mul $t2, $t1, 9\n",
    "    div $t2, $t2, 5\n",
    "    addi $t2, $t2, 32\n",
    "\n",
    "    li $v0, 4\n",
    "    la $a0, result1\n",
    "    syscall\n",
    "\n",
    "    move $a0, $t2\n",
    "    li $v0, 1\n",
    "    syscall\n",
    "\n",
    "    j exit\n",
    "\n",
    "fahrenheit_to_celsius:\n",
    "    li $v0, 4\n",
    "    la $a0, prompt3\n",
    "    syscall\n",
    "\n",
    "    li $v0, 5\n",
    "    syscall\n",
    "    move $t1, $v0\n",
    "\n",
    "    # Convertir de Fahrenheit a Celsius (C = (F - 32) * 5/9)\n",
    "    sub $t2, $t1, 32\n",
    "    mul $t2, $t2, 5\n",
    "    div $t2, $t2, 9\n",
    "\n",
    "    li $v0, 4\n",
    "    la $a0, result2\n",
    "    syscall\n",
    "\n",
    "    move $a0, $t2\n",
    "    li $v0, 1\n",
    "    syscall\n",
    "\n",
    "    j exit"
   ]
  },
  {
   "attachments": {},
   "cell_type": "markdown",
   "metadata": {},
   "source": [
    "### 2. For the following memory space, what would it look like after executing the assembly code below:"
   ]
  },
  {
   "attachments": {},
   "cell_type": "markdown",
   "metadata": {},
   "source": [
    "| Address | Contents |\n",
    "|---------|----------|\n",
    "| 10      | 1        |\n",
    "| 11      | 4        |\n",
    "| 12      | 5        |\n",
    "| 13      | 112      |\n",
    "| 14      | 7        |\n",
    "\n",
    "LOAD 14 <br>\n",
    "ADD (12) <br>\n",
    "STORE 12 <br>"
   ]
  },
  {
   "attachments": {},
   "cell_type": "markdown",
   "metadata": {},
   "source": [
    "- La instrucción LOAD 14 carga el valor correspondiente a la dirección de memoria 14 en un registro, es decir 7\n",
    "- La instrucción ADD (12) suma el valor correspondiente a la dirección de memoria 12 con el valor almacenado en el registro, es decir 5 + 7 = 12\n",
    "- La instrucción STORE 12 almacena el resultado de la anterior operación en la dirección de memoria 12, es decir 12\n",
    "\n",
    "Quedando al final:\n",
    "| Address | Contents |\n",
    "|---------|----------|\n",
    "| 10      | 1        |\n",
    "| 11      | 4        |\n",
    "| 12      | 12       |\n",
    "| 13      | 112      |\n",
    "| 14      | 7        |"
   ]
  },
  {
   "attachments": {},
   "cell_type": "markdown",
   "metadata": {},
   "source": [
    "### 3. Implement a function named abs_diff that calculates the absolute value of the difference of two inputs a and b (i.e., |a-b|), and get the assembly code output"
   ]
  },
  {
   "cell_type": "code",
   "execution_count": null,
   "metadata": {
    "vscode": {
     "languageId": "mips"
    }
   },
   "outputs": [],
   "source": [
    ".data\n",
    "prompt:     .asciiz \"Ingrese el numero a: \"\n",
    "prompt2:    .asciiz \"Ingrese el numero b: \"\n",
    "prompt3:    .asciiz \"El resultado es \"\n",
    "\n",
    ".text\n",
    ".globl main\n",
    "\n",
    "main:\n",
    "  # Pide al usuario que ingrese el número a\n",
    "  li $v0, 4\n",
    "  la $a0, prompt\n",
    "  syscall\n",
    "\n",
    "  # Lee el número a desde la entrada estándar\n",
    "  li $v0, 5\n",
    "  syscall\n",
    "  move $t0, $v0      # Guarda el número a en $t0\n",
    "\n",
    "  # Pide al usuario que ingrese el número b\n",
    "  li $v0, 4\n",
    "  la $a0, prompt2\n",
    "  syscall\n",
    "\n",
    "  # Lee el número b desde la entrada estándar\n",
    "  li $v0, 5\n",
    "  syscall\n",
    "  move $t1, $v0      # Guarda el número b en $t1\n",
    "\n",
    "  # Llama a la función abs_diff para calcular la diferencia absoluta\n",
    "  jal abs_diff\n",
    "\n",
    "  # Imprime el resultado\n",
    "  li $v0, 4\n",
    "  la $a0, prompt3\n",
    "  syscall\n",
    "\n",
    "  li $v0, 1\n",
    "  move $a0, $t2      # Carga el resultado en $a0\n",
    "  syscall\n",
    "\n",
    "  # Termina el programa\n",
    "  li $v0, 10\n",
    "  syscall\n",
    "\n",
    "# Función que calcula la diferencia absoluta de dos números\n",
    "abs_diff:\n",
    "  sub $t2, $t0, $t1  # Resta $t1 de $t0 y guarda el resultado en $t2\n",
    "  abs $t2, $t2       # Calcula el valor absoluto de $t2\n",
    "\n",
    "  jr $ra             # Vuelve al punto de retorno"
   ]
  },
  {
   "attachments": {},
   "cell_type": "markdown",
   "metadata": {},
   "source": [
    "### 4. What are the differences among sequential access, direct access, and random access?"
   ]
  },
  {
   "attachments": {},
   "cell_type": "markdown",
   "metadata": {},
   "source": [
    "1.\tAcceso secuencial: En este método, los datos se almacenan en la memoria en un orden secuencial. Para acceder a un dato específico, es necesario recorrer los elementos en una secuencia lineal hasta llegar al dato deseado. Este método es comúnmente utilizado en estructuras de datos como listas enlazadas o archivos secuenciales.\n",
    "\n",
    "2.\tAcceso directo: En este método, cada registro o unidad de datos tiene una dirección de memoria única que permite acceder directamente a su ubicación física. Los datos se dividen en bloques y cada bloque tiene asociada una dirección de memoria única. Una vez conocida la dirección de inicio del bloque deseado, se realiza un acceso secuencial dentro del mismo. Este método se utiliza típicamente en sistemas de almacenamiento de archivos, como discos duros.\n",
    "\n",
    "3.\tAcceso aleatorio: En este método, cada dirección de memoria tiene una única dirección física asociada, similar a una estructura \"hashmap\". Esto permite acceder de manera contante e independiente a cualquier dirección de memoria, sin necesidad de recorrer los datos secuencialmente. Se utiliza en sistemas de memoria RAM y en dispositivos de almacenamiento de estado sólido (SSD), donde el acceso a los datos se realiza de manera rápida y directa. A diferencia de los discos magnéticos, que combinan los métodos de acceso directo y secuencial moviendo un imán físicamente a una posición específica, lo cual requiere más tiempo para acceder a un dato en comparación con el acceso aleatorio."
   ]
  },
  {
   "attachments": {},
   "cell_type": "markdown",
   "metadata": {},
   "source": [
    "### 5. What common characteristics are shared by all RAID levels?"
   ]
  },
  {
   "attachments": {},
   "cell_type": "markdown",
   "metadata": {},
   "source": [
    "Los niveles de RAID comparten características comunes que ofrecen mejoras significativas en términos de rendimiento, confiabilidad y tolerancia a fallos, con el fin de garantizar la integridad y protección de los datos almacenados. Estos niveles, como RAID 1 y RAID 5, emplean técnicas de redundancia para duplicar los datos, escribiendo copias idénticas en otros discos. Esto permite reconstruir los datos en caso de que alguno falle, utilizando la información de paridad distribuida. También utilizan técnicas de paridad en RAID 3 y RAID 4 para la recuperación de datos en caso de fallo de un disco. Los datos se dividen en bloques y se almacenan en varios discos, mientras que un disco adicional guarda la información de paridad mediante cálculos que permiten detectar y corregir errores en los datos. Además de la protección, los niveles de RAID mejoran la velocidad de lectura y escritura mediante la distribución de datos y el acceso simultáneo a través de unidades físicas conocidas como bandas. Los archivos se dividen en piezas más pequeñas para una gestión más eficiente. Otra ventaja es la capacidad de combinar varias unidades de discos físicos que el sistema reconoce como una sola unidad lógica, lo que aumenta la capacidad de almacenamiento disponible. Por último, los niveles de RAID proporcionan funciones de supervisión y mantenimiento para gestionar el estado de los discos en el arreglo RAID, permitiendo un monitoreo eficaz de su funcionamiento."
   ]
  }
 ],
 "metadata": {
  "kernelspec": {
   "display_name": "Intel",
   "language": "",
   "name": "intel"
  },
  "language_info": {
   "file_extension": "x86",
   "mimetype": "intel",
   "name": "intel"
  }
 },
 "nbformat": 4,
 "nbformat_minor": 2
}
